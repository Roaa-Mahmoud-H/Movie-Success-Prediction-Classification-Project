{
 "cells": [
  {
   "cell_type": "code",
   "execution_count": null,
   "id": "bbd065cf",
   "metadata": {},
   "outputs": [],
   "source": [
    "import numpy as np\n",
    "import pandas as pd\n",
    "import matplotlib.pyplot as plt"
   ]
  },
  {
   "cell_type": "markdown",
   "id": "9e802588",
   "metadata": {},
   "source": [
    "## Data preparation "
   ]
  },
  {
   "cell_type": "code",
   "execution_count": null,
   "id": "82818bc7",
   "metadata": {},
   "outputs": [],
   "source": [
    "# Read the movies dataset\n",
    "movies = pd.read_csv(\"D:\\\\Artificial Intelligence\\\\Moive Success Prediction Classification Project\\\\Movie-Success-Prediction-Classification-Project\\\\data\\\\tmdb_5000_movies.csv\")\n",
    "\n",
    "# Read the credits dataset\n",
    "credits = pd.read_csv(\"D:\\\\Artificial Intelligence\\\\Moive Success Prediction Classification Project\\\\Movie-Success-Prediction-Classification-Project\\\\data\\\\tmdb_5000_credits.csv\")\n",
    "\n",
    "# Merge on the common columns: id (movies) and movie_id (credits)\n",
    "df = movies.merge(credits, left_on='id', right_on='movie_id', how='inner')\n",
    "df.head(2)"
   ]
  },
  {
   "cell_type": "code",
   "execution_count": null,
   "id": "d42c9112",
   "metadata": {},
   "outputs": [],
   "source": [
    "df.drop(columns=['movie_id'], inplace=True)\n"
   ]
  },
  {
   "cell_type": "code",
   "execution_count": null,
   "id": "07bef219",
   "metadata": {},
   "outputs": [],
   "source": [
    "df.rename(columns={'title_x': 'title'}, inplace=True)\n",
    "df.drop(columns=['title_y'], inplace=True)\n",
    "\n"
   ]
  },
  {
   "cell_type": "code",
   "execution_count": null,
   "id": "ad5db405",
   "metadata": {},
   "outputs": [],
   "source": [
    "df.columns.tolist()"
   ]
  },
  {
   "cell_type": "markdown",
   "id": "47c3bfa6",
   "metadata": {},
   "source": [
    "## Exploratory data analysis"
   ]
  },
  {
   "cell_type": "code",
   "execution_count": null,
   "id": "a441d8d6",
   "metadata": {},
   "outputs": [],
   "source": [
    "df.shape"
   ]
  },
  {
   "cell_type": "code",
   "execution_count": null,
   "id": "5ef6aac1",
   "metadata": {},
   "outputs": [],
   "source": [
    "df.isnull().sum()"
   ]
  },
  {
   "cell_type": "code",
   "execution_count": null,
   "id": "11d0369d",
   "metadata": {},
   "outputs": [],
   "source": [
    "df.describe()"
   ]
  },
  {
   "cell_type": "code",
   "execution_count": null,
   "id": "3bf5fcb9",
   "metadata": {},
   "outputs": [],
   "source": [
    "movies_df = df[['id', 'title', 'overview', 'genres', 'keywords', 'cast', 'crew']]\n",
    "movies_df.head(2)"
   ]
  },
  {
   "cell_type": "markdown",
   "id": "7968cd85",
   "metadata": {},
   "source": [
    "## Data Cleaning"
   ]
  }
 ],
 "metadata": {
  "kernelspec": {
   "display_name": "Python 3",
   "language": "python",
   "name": "python3"
  },
  "language_info": {
   "codemirror_mode": {
    "name": "ipython",
    "version": 3
   },
   "file_extension": ".py",
   "mimetype": "text/x-python",
   "name": "python",
   "nbconvert_exporter": "python",
   "pygments_lexer": "ipython3",
   "version": "3.12.4"
  }
 },
 "nbformat": 4,
 "nbformat_minor": 5
}
